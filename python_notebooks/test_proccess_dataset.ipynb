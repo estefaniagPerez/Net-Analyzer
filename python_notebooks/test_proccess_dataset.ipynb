{
 "cells": [
  {
   "cell_type": "markdown",
   "metadata": {},
   "source": [
    "### Importing Pandas\n",
    "\n",
    "First import the Pandas library:"
   ]
  },
  {
   "cell_type": "code",
   "execution_count": 2,
   "metadata": {},
   "outputs": [],
   "source": [
    "import pandas as pd"
   ]
  },
  {
   "cell_type": "markdown",
   "metadata": {},
   "source": [
    "### Loading Data\n",
    "\n",
    "The data can be loaded into a Pandas from CSV files or Excels. Here's an example of loading data from a CSV file:"
   ]
  },
  {
   "cell_type": "code",
   "execution_count": 3,
   "metadata": {},
   "outputs": [],
   "source": [
    "# Load data from a CSV file\n",
    "df = pd.read_csv('./datasets/dataset_racism/twitter_scrapping.csv')"
   ]
  },
  {
   "cell_type": "markdown",
   "metadata": {},
   "source": [
    "### Get The Structure of the DataSet\n",
    "Once the data is loaded, the structure of the data can be obtained by listing the name of the columns"
   ]
  },
  {
   "cell_type": "code",
   "execution_count": 4,
   "metadata": {},
   "outputs": [
    {
     "name": "stdout",
     "output_type": "stream",
     "text": [
      "\n",
      "------------- COLUMN NAMES -------------\n",
      "\n",
      "Unnamed: 0.1\n",
      "Unnamed: 0\n",
      "Nombre de Usuario\n",
      "Nombre Visible\n",
      "ID del Usuario\n",
      "Descripción del Usuario\n",
      "Ubicación\n",
      "Tweet\n",
      "Fecha de Creación\n",
      "Cantidad de likes\n",
      "Idioma\n",
      "En respuesta a\n",
      "\n",
      "--------------- STRUCTURE ---------------\n",
      "\n",
      "Number of rows: 4494508\n",
      "Number of columns: 12\n"
     ]
    }
   ],
   "source": [
    "# Get the column names as a list\n",
    "column_names = df.columns.tolist()\n",
    "\n",
    "# Print the column names\n",
    "print()\n",
    "print(\"------------- COLUMN NAMES -------------\")\n",
    "print()\n",
    "for c in column_names:\n",
    "    print(c)\n",
    "\n",
    "# Get the number of rows and columns\n",
    "num_rows, num_cols = df.shape\n",
    "print()\n",
    "print(\"--------------- STRUCTURE ---------------\")\n",
    "print()\n",
    "print(\"Number of rows:\", num_rows)\n",
    "print(\"Number of columns:\", num_cols)"
   ]
  },
  {
   "cell_type": "markdown",
   "metadata": {},
   "source": [
    "### Exploring the Data\n",
    "\n",
    "Once your data is loaded, you can explore it using various Pandas functions:"
   ]
  },
  {
   "cell_type": "code",
   "execution_count": 5,
   "metadata": {},
   "outputs": [
    {
     "name": "stdout",
     "output_type": "stream",
     "text": [
      "   Unnamed: 0.1  Unnamed: 0         Nombre de Usuario Nombre Visible  \\\n",
      "0             0           0                    惹句👯‍♀️     LiI_Nigger   \n",
      "1             1           1  Croispin O'Mhaghadia PhD       croispin   \n",
      "2             2           2                    惹句👯‍♀️     LiI_Nigger   \n",
      "3             3           3                    ＜お前凍結     OnanismAsp   \n",
      "4             4           4                    2階3列4番  aya_is_kawaii   \n",
      "\n",
      "   ID del Usuario                            Descripción del Usuario  \\\n",
      "0    1.429793e+18                      どひゃー選手権関東地区代表\\r\\n地獄(@jack_VTB   \n",
      "1    1.429793e+18  Climate Father, Custodian Of Gaia, Doctor of R...   \n",
      "2    1.429793e+18                      どひゃー選手権関東地区代表\\r\\n地獄(@jack_VTB   \n",
      "3    1.429793e+18                                                NaN   \n",
      "4    1.429793e+18                                           槌骨 砧骨 鐙骨   \n",
      "\n",
      "                                           Ubicación  \\\n",
      "0                                            まるち！？！？   \n",
      "1                         Mag Mell, The Emerald Isle   \n",
      "2                                            まるち！？！？   \n",
      "3  ( *^_^* )\\r\\n.(⊃□⊂)\\r\\n.しーＪ\\r\\n( *^_^* )\\r\\n(⊃...   \n",
      "4                                       たまに無差別ブロしてるよ   \n",
      "\n",
      "                                               Tweet    Fecha de Creación  \\\n",
      "0                                   @Naushikamaru2 😒  2021-08-23 13:10:00   \n",
      "1  @talkRADIO @calvinrobinson Does this mean I ca...  2021-08-23 13:09:35   \n",
      "2                             @mame_chivi ヘッダー被ってんねん  2021-08-23 13:08:47   \n",
      "3  RT @aya_is_kawaii: @OnanismAsp Niggerらしさん受験勉強頑...  2021-08-23 13:08:28   \n",
      "4                    @OnanismAsp Niggerらしさん受験勉強頑張ってね  2021-08-23 13:07:57   \n",
      "\n",
      "   Cantidad de likes Idioma En respuesta a  \n",
      "0                0.0    und  Naushikamaru2  \n",
      "1                0.0     en      talkRADIO  \n",
      "2                0.0     ja     mame_chivi  \n",
      "3                0.0     ja            NaN  \n",
      "4                0.0     ja     OnanismAsp  \n",
      "<class 'pandas.core.frame.DataFrame'>\n",
      "RangeIndex: 4494508 entries, 0 to 4494507\n",
      "Data columns (total 12 columns):\n",
      " #   Column                   Dtype  \n",
      "---  ------                   -----  \n",
      " 0   Unnamed: 0.1             int64  \n",
      " 1   Unnamed: 0               int64  \n",
      " 2   Nombre de Usuario        object \n",
      " 3   Nombre Visible           object \n",
      " 4   ID del Usuario           float64\n",
      " 5   Descripción del Usuario  object \n",
      " 6   Ubicación                object \n",
      " 7   Tweet                    object \n",
      " 8   Fecha de Creación        object \n",
      " 9   Cantidad de likes        float64\n",
      " 10  Idioma                   object \n",
      " 11  En respuesta a           object \n",
      "dtypes: float64(2), int64(2), object(8)\n",
      "memory usage: 411.5+ MB\n",
      "None\n",
      "Unnamed: 0.1                     0\n",
      "Unnamed: 0                       0\n",
      "Nombre de Usuario              969\n",
      "Nombre Visible                   0\n",
      "ID del Usuario                   0\n",
      "Descripción del Usuario     518224\n",
      "Ubicación                  1471618\n",
      "Tweet                            0\n",
      "Fecha de Creación                0\n",
      "Cantidad de likes                0\n",
      "Idioma                           0\n",
      "En respuesta a             3234284\n",
      "dtype: int64\n",
      "       Unnamed: 0.1    Unnamed: 0  ID del Usuario  Cantidad de likes\n",
      "count  4.494508e+06  4.494508e+06    4.494508e+06       4.494508e+06\n",
      "mean   4.442289e+02  4.442289e+02    1.435477e+18       1.565751e+00\n",
      "std    2.594513e+02  2.594513e+02    3.997271e+15       3.254180e+01\n",
      "min    0.000000e+00  0.000000e+00    1.429021e+18       0.000000e+00\n",
      "25%    2.190000e+02  2.190000e+02    1.432583e+18       0.000000e+00\n",
      "50%    4.420000e+02  4.420000e+02    1.434834e+18       0.000000e+00\n",
      "75%    6.680000e+02  6.680000e+02    1.438414e+18       1.000000e+00\n",
      "max    8.990000e+02  8.990000e+02    1.445400e+18       7.537000e+03\n"
     ]
    }
   ],
   "source": [
    "# Display the first few rows\n",
    "print(df.head())\n",
    "\n",
    "# Get information about the DataFrame\n",
    "print(df.info())\n",
    "\n",
    "# Check for missing values\n",
    "print(df.isnull().sum())\n",
    "\n",
    "# Statistical summary\n",
    "print(df.describe())\n"
   ]
  },
  {
   "cell_type": "markdown",
   "metadata": {},
   "source": [
    "### Filtrate the Data\n",
    "Only the tweets in english will be used for the project"
   ]
  },
  {
   "cell_type": "code",
   "execution_count": 6,
   "metadata": {},
   "outputs": [
    {
     "name": "stdout",
     "output_type": "stream",
     "text": [
      "\n",
      "--------------- STRUCTURE ---------------\n",
      "\n",
      "Number of rows: 3715313\n",
      "Number of columns: 12\n"
     ]
    }
   ],
   "source": [
    "filtered_df = df[df['Idioma'] == 'en']\n",
    "\n",
    "# Get the number of rows and columns\n",
    "num_rows, num_cols = filtered_df.shape\n",
    "print()\n",
    "print(\"--------------- STRUCTURE ---------------\")\n",
    "print()\n",
    "print(\"Number of rows:\", num_rows)\n",
    "print(\"Number of columns:\", num_cols)"
   ]
  },
  {
   "cell_type": "markdown",
   "metadata": {},
   "source": [
    "### Create New Structures\n",
    "\n",
    "For this project we need 3 types of files:\n",
    "\n",
    "- CSV1: Realations between users\n",
    "- CSV2: Weigh of each user base on tweeter likes\n",
    "- JSON: Tweeters by each user"
   ]
  },
  {
   "cell_type": "code",
   "execution_count": 10,
   "metadata": {},
   "outputs": [],
   "source": [
    "# Display the first few rows\n",
    "filtered_df.to_csv('./datasets/proccessed/racism/filtered_df.csv', index=False) \n",
    "\n",
    "likes_sum = filtered_df.groupby(\"ID del Usuario\")[\"Cantidad de likes\"].sum()\n",
    "filtered_df = filtered_df[filtered_df[\"ID del Usuario\"].isin(likes_sum[likes_sum > 100].index)]\n",
    "csv_1 = filtered_df[['Nombre Visible', 'En respuesta a']].rename(columns={'Nombre Visible': 'Source', 'En respuesta a': 'Target'}).assign(\n",
    "    Link=1,\n",
    "    Target=lambda df: df['Target'].fillna(df['Source'])\n",
    ").dropna(subset=[\"Target\"])\n",
    "csv_1 = csv_1.groupby(['Source', 'Target'])['Link'].sum().reset_index()\n",
    "csv_1 = csv_1[(csv_1['Link'] >= 100)]\n",
    "csv_1.to_csv('./datasets/proccessed/racism/graph.csv', index=False)\n",
    "\n",
    "csv_2 = filtered_df.groupby('Nombre Visible')['Cantidad de likes'].sum().reset_index()\n",
    "csv_2 = csv_2.rename(columns={'Nombre Visible': 'Visible Name', 'Cantidad de likes': 'Total Likes'})\n",
    "csv_2.to_csv('./datasets/proccessed/racism/likes.csv', index=False)\n"
   ]
  },
  {
   "cell_type": "code",
   "execution_count": 11,
   "metadata": {},
   "outputs": [],
   "source": [
    "import json\n",
    "df_unique = filtered_df.drop_duplicates(subset=['Nombre Visible', 'Tweet'])\n",
    "tweets = df_unique.groupby('Nombre Visible')['Tweet'].apply(list).to_dict()\n",
    "data = [{\"user_id\": user, \"msgs\": msgs} for user, msgs in tweets.items()]\n",
    "\n",
    "json_data = json.dumps(data, indent=4, ensure_ascii=False, separators=(',', ': \\n'))\n",
    "\n",
    "# Save the JSON to a file\n",
    "with open('./datasets/proccessed/racism/tweets_by_user.json', 'w') as f:\n",
    "    f.write(json_data)"
   ]
  }
 ],
 "metadata": {
  "kernelspec": {
   "display_name": ".venv",
   "language": "python",
   "name": "python3"
  },
  "language_info": {
   "codemirror_mode": {
    "name": "ipython",
    "version": 3
   },
   "file_extension": ".py",
   "mimetype": "text/x-python",
   "name": "python",
   "nbconvert_exporter": "python",
   "pygments_lexer": "ipython3",
   "version": "3.10.12"
  }
 },
 "nbformat": 4,
 "nbformat_minor": 2
}
